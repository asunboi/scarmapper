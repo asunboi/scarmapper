{
 "cells": [
  {
   "cell_type": "code",
   "execution_count": 1,
   "id": "78ebed16-55f8-4717-81b6-cd2dea9f9341",
   "metadata": {},
   "outputs": [
    {
     "name": "stderr",
     "output_type": "stream",
     "text": [
      "── \u001b[1mAttaching core tidyverse packages\u001b[22m ──────────────────────── tidyverse 2.0.0 ──\n",
      "\u001b[32m✔\u001b[39m \u001b[34mdplyr    \u001b[39m 1.1.4     \u001b[32m✔\u001b[39m \u001b[34mreadr    \u001b[39m 2.1.4\n",
      "\u001b[32m✔\u001b[39m \u001b[34mforcats  \u001b[39m 1.0.0     \u001b[32m✔\u001b[39m \u001b[34mstringr  \u001b[39m 1.5.1\n",
      "\u001b[32m✔\u001b[39m \u001b[34mggplot2  \u001b[39m 3.4.4     \u001b[32m✔\u001b[39m \u001b[34mtibble   \u001b[39m 3.2.1\n",
      "\u001b[32m✔\u001b[39m \u001b[34mlubridate\u001b[39m 1.9.3     \u001b[32m✔\u001b[39m \u001b[34mtidyr    \u001b[39m 1.3.0\n",
      "\u001b[32m✔\u001b[39m \u001b[34mpurrr    \u001b[39m 1.0.2     \n",
      "── \u001b[1mConflicts\u001b[22m ────────────────────────────────────────── tidyverse_conflicts() ──\n",
      "\u001b[31m✖\u001b[39m \u001b[34mdplyr\u001b[39m::\u001b[32mfilter()\u001b[39m masks \u001b[34mstats\u001b[39m::filter()\n",
      "\u001b[31m✖\u001b[39m \u001b[34mdplyr\u001b[39m::\u001b[32mlag()\u001b[39m    masks \u001b[34mstats\u001b[39m::lag()\n",
      "\u001b[36mℹ\u001b[39m Use the conflicted package (\u001b[3m\u001b[34m<http://conflicted.r-lib.org/>\u001b[39m\u001b[23m) to force all conflicts to become errors\n"
     ]
    },
    {
     "name": "stdout",
     "output_type": "stream",
     "text": [
      "[1] \"11F_10R\"\n",
      "[1] \"4023WT_H840A_yq\"\n",
      "[1] \"/gpfs/home/asun/scarmapper_in_202404/igh_8_8/test1_11F_10R_ScarMapper_Raw_Data.txt\"\n",
      "[1] \"4023WT_H840A_yq #row(aka total#read):10471\"\n",
      "[1] \"4023WT_H840A_yq #row(total #read):10471, #col:13\"\n"
     ]
    },
    {
     "name": "stderr",
     "output_type": "stream",
     "text": [
      "\u001b[1m\u001b[22mSaving 6.67 x 6.67 in image\n",
      "Warning message:\n",
      "“\u001b[1m\u001b[22mRemoved 2 rows containing missing values (`geom_bar()`).”\n",
      "\u001b[1m\u001b[22mSaving 6.67 x 6.67 in image\n",
      "Warning message:\n",
      "“\u001b[1m\u001b[22mRemoved 1 rows containing missing values (`geom_segment()`).”\n"
     ]
    },
    {
     "name": "stdout",
     "output_type": "stream",
     "text": [
      "[1] \"11F_5R\"\n",
      "[1] \"4023WT_cas9wt_ss\"\n",
      "[1] \"/gpfs/home/asun/scarmapper_in_202404/igh_8_8/test1_11F_5R_ScarMapper_Raw_Data.txt\"\n",
      "[1] \"4023WT_cas9wt_ss #row(aka total#read):85187\"\n",
      "[1] \"4023WT_cas9wt_ss #row(total #read):85187, #col:13\"\n"
     ]
    },
    {
     "name": "stderr",
     "output_type": "stream",
     "text": [
      "\u001b[1m\u001b[22mSaving 6.67 x 6.67 in image\n",
      "Warning message:\n",
      "“\u001b[1m\u001b[22mRemoved 4 rows containing missing values (`geom_bar()`).”\n",
      "\u001b[1m\u001b[22mSaving 6.67 x 6.67 in image\n",
      "Warning message:\n",
      "“\u001b[1m\u001b[22mRemoved 36 rows containing missing values (`geom_segment()`).”\n"
     ]
    }
   ],
   "source": [
    "library(tidyverse)\n",
    "library(ggplot2)\n",
    "\n",
    "setwd(\"~/scarmapper_in_202404/igh_8_8\")\n",
    "filelist <- list.files(\"~/scarmapper_in_202404/igh_8_8\", \n",
    "                        pattern=\"*_Raw_Data.txt\", full.names=TRUE)\n",
    "indexDic <- read.table(\"~/scarmapper_in_202404/sampleManifest.txt\", header = FALSE, sep = \"\\t\")\n",
    "\n",
    "##generate rainfall plot and histogram for deletion size distribution\n",
    "del_rainfall<- function(df,sampleName){\n",
    "    df <- filter(df,Right.Deletions<167)\n",
    "    df <- filter(df,Left.Deletions<192)\n",
    "    df <- filter(df,Deletion.Size<300)\n",
    "    df <- arrange(df, Deletion.Size, Left.Deletions,Insertion.Size)\n",
    "    df$id <- paste0(\"a\",1:nrow(df))\n",
    "    print(paste0(sampleName, \" #row(total #read):\", nrow(df),\", \",\"#col:\",ncol(df)))\n",
    "    rainfall<- ggplot(df) + geom_segment(aes(x=-Left.Deletions,\n",
    "                                             y=reorder(id,-Deletion.Size),\n",
    "                                             xend=Right.Deletions,yend=id)) +\n",
    "        labs(title = sampleName) + xlab(\"Deletion Size\") + xlim(-100,100)\n",
    "    hist<- ggplot(df, aes(x=Deletion.Size)) + geom_histogram(binwidth=5) +\n",
    "        labs(title=sampleName, x=\"deletion size(bp)\", y = \"number of reads\")+theme_bw()+\n",
    "        theme(plot.title = element_text(size = 15,face=\"bold\",hjust = 0.5))+xlim(0,200)+ylim(0, 15000)\n",
    "    list(rainfall, hist)\n",
    "    ggsave(paste0(sampleName,\"_delsize_hist.png\"), plot=hist, device=\"png\", \n",
    "           path = \"~/scarmapper_in_202404/igh_8_8/graph\")\n",
    "    ggsave(paste0(sampleName,\"_delsize_rainfall.png\"), plot=rainfall, device=\"png\", \n",
    "           path = \"~/scarmapper_in_202404/igh_8_8/graph\")\n",
    "}\n",
    "\n",
    "for (i in 1:length(filelist)){\n",
    "    filename<-filelist[i]\n",
    "    index<-gsub(\".*test1_(.+)_ScarMapper.*\", \"\\\\1\", filename)\n",
    "    rowDic <- which(indexDic[1] == index)\n",
    "    sample <- indexDic$V2[rowDic]\n",
    "    print(index)\n",
    "    print(sample)\n",
    "    print(filename)\n",
    "    df <- read.delim(filename,skip=6)\n",
    "    print(paste0(sample,\" #row(aka total#read):\", nrow(df)))\n",
    "    del_rainfall(df,sample)\n",
    "}\n"
   ]
  },
  {
   "cell_type": "code",
   "execution_count": null,
   "id": "bb483a88-3dfe-44b2-8121-244e2e03e9e0",
   "metadata": {},
   "outputs": [],
   "source": []
  }
 ],
 "metadata": {
  "kernelspec": {
   "display_name": "R4.0.0",
   "language": "R",
   "name": "ir"
  },
  "language_info": {
   "codemirror_mode": "r",
   "file_extension": ".r",
   "mimetype": "text/x-r-source",
   "name": "R",
   "pygments_lexer": "r",
   "version": "4.0.0"
  }
 },
 "nbformat": 4,
 "nbformat_minor": 5
}
